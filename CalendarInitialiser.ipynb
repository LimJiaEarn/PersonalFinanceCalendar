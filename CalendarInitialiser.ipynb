{
 "cells": [
  {
   "cell_type": "markdown",
   "id": "f7f3f00d",
   "metadata": {},
   "source": [
    "# Please enter the following details and preferences before we initialise "
   ]
  },
  {
   "cell_type": "code",
   "execution_count": 1,
   "id": "2dcbd2b5",
   "metadata": {},
   "outputs": [],
   "source": [
    "import datetime, calendar, openpyxl\n",
    "from openpyxl.utils import get_column_letter\n",
    "from openpyxl.styles import PatternFill, Border, Side, Alignment, Protection, Font\n",
    "\n",
    "# https://openpyxl.readthedocs.io/en/stable/styles.html"
   ]
  },
  {
   "cell_type": "code",
   "execution_count": 2,
   "id": "9f88affb",
   "metadata": {},
   "outputs": [],
   "source": [
    "CalendarFile = openpyxl.load_workbook(\"PLAY.xlsx\")\n",
    "CalendarFile_Jan = CalendarFile.active"
   ]
  },
  {
   "cell_type": "code",
   "execution_count": 3,
   "id": "c840f886",
   "metadata": {},
   "outputs": [
    {
     "name": "stdout",
     "output_type": "stream",
     "text": [
      "Enter the year for your calendar:2023\n",
      "Choose your preference on which day you prefer your calendar to start:\n",
      "1. Monday\n",
      "2. Tuesday\n",
      "3. Wednesday\n",
      "4. Thursday\n",
      "5. Friday\n",
      "6. Saturday\n",
      "7. Sunday\n",
      "1\n"
     ]
    }
   ],
   "source": [
    "#Code to get Calendar Year \n",
    "while True:\n",
    "    try:\n",
    "        YEAR = int(input(\"Enter the year for your calendar:\"))\n",
    "        break;\n",
    "    except ValueError:\n",
    "        print(\"Enter a valid year! (e.g: 2022, 2024)\")\n",
    "        \n",
    "        \n",
    "#Code to get Calendar Preference on start day         \n",
    "print(\"Choose your preference on which day you prefer your calendar to start:\")\n",
    "while True:\n",
    "    try:\n",
    "        start_day = int(input(\"1. Monday\\n2. Tuesday\\n3. Wednesday\\n4. Thursday\\n5. Friday\\n6. Saturday\\n7. Sunday\\n\"))\n",
    "        break;\n",
    "    except ValueError:\n",
    "        print(\"Enter a valid preference! (e.g: 1, 2..7)\")\n"
   ]
  },
  {
   "cell_type": "markdown",
   "id": "0d655351",
   "metadata": {},
   "source": [
    "# Backend"
   ]
  },
  {
   "cell_type": "markdown",
   "id": "34825292",
   "metadata": {},
   "source": [
    "### Current Variables Initialised\n",
    "#### 1) YEAR - Year for Calendar user has inputted\n",
    "#### 2) start_day - Start Day for every week of the calendar (to be implemented below)\n",
    "#### 3) CalendarFile - Excel file imported from user directory \n"
   ]
  },
  {
   "cell_type": "markdown",
   "id": "7ca86412",
   "metadata": {},
   "source": [
    "## Initialising Utility Lists"
   ]
  },
  {
   "cell_type": "code",
   "execution_count": 4,
   "id": "6cfd44c5",
   "metadata": {},
   "outputs": [],
   "source": [
    "#CalendarDaysAndMonths = {\"Jan\":31, \"Feb\":28, \"Mar\":31, \"Apr\":30, \"May\":31, \"Jun\":30, \"Jul\":31, \"Aug\":31, \"Sep\":30, \"Oct\":31, \"Nov\":30, \"Dec\":31}\n",
    "CalendarDaysAndMonths = {\"Jan\":31, \"Feb\":28, \"Mar\":31, \"Apr\":30}\n",
    "#If leap year, days in Feb changed to 29 else\n",
    "if ( (YEAR % 400 == 0) or (YEAR % 100 != 0) and (YEAR % 4 == 0) ):        \n",
    "    CalendarDaysAndMonths[\"Feb\"] = 29\n",
    "    \n",
    "daysOfWeek = [\"Monday\", \"Tuesday\", \"Wednesday\", \"Thursday\", \"Friday\", \"Saturday\", \"Sunday\"]\n",
    "\n",
    "#There are 6 rows before the first row of main data\n",
    "rowOffset_header = 6\n",
    "#There are 7 rows in each week's block\n",
    "rowOffset_weeks = 6"
   ]
  },
  {
   "cell_type": "markdown",
   "id": "b9bce557",
   "metadata": {},
   "source": [
    "## Filling up the days of the week (Works)"
   ]
  },
  {
   "cell_type": "code",
   "execution_count": 10,
   "id": "2e179389",
   "metadata": {},
   "outputs": [],
   "source": [
    "start_day-=1\n",
    "for month in CalendarDaysAndMonths:\n",
    "    CalendarFile_currentSheet = CalendarFile[month]\n",
    "    row = rowOffset_header + 1\n",
    "    for column in range(2, 9):\n",
    "        char = get_column_letter(column)\n",
    "        CalendarFile_currentSheet[char+str(row)] = daysOfWeek[start_day]\n",
    "        CalendarFile_currentSheet[char+str(row)].fill = PatternFill(start_color='91D9D9', fill_type='solid')\n",
    "        CalendarFile_currentSheet[char+str(row)].font = Font(bold=True, size=11)\n",
    "        start_day = (start_day+1)%7"
   ]
  },
  {
   "cell_type": "markdown",
   "id": "df77282e",
   "metadata": {},
   "source": [
    "## Filling up dates for calendar"
   ]
  },
  {
   "cell_type": "code",
   "execution_count": 6,
   "id": "d4277e0d",
   "metadata": {},
   "outputs": [],
   "source": [
    "#Code to calculate the first day of the January and get index of it in daysOfWeek list\n",
    "#this variable will be re-initialised for subsequent months\n",
    "startDayOfMonth = calendar.day_name[datetime.datetime.strptime('01 01 '+str(YEAR), '%d %m %Y').weekday() ]\n",
    "startDayOfMonth_index = daysOfWeek.index(startDayOfMonth)\n",
    "\n",
    "\n",
    "for month, daysInMonth in CalendarDaysAndMonths.items():\n",
    "    \n",
    "    print(\"Currently traversing in month: \", month, \"which has \", daysInMonth)\n",
    "    date=1\n",
    "    CalendarFile_currentSheet = CalendarFile[month]\n",
    "    for row in range(rowOffset_header+2, rowOffset_header + rowOffset_weeks*6, rowOffset_weeks):\n",
    "          \n",
    "            \n",
    "        for column in range(2, 9):              \n",
    "            char = get_column_letter(column)\n",
    "          \n",
    "            #Ensure first date of month is inserted in the correct starting day\n",
    "            if ( (date==1) and (CalendarFile_currentSheet[char+str(rowOffset_header+1)].value != startDayOfMonth) ):\n",
    "                continue\n",
    "            #Continuos insertion\n",
    "            elif (date<=daysInMonth):   \n",
    "                CalendarFile_currentSheet[char+str(row)] = date\n",
    "                date+=1\n",
    "            #When all dates of the month has been filled\n",
    "            elif (date==daysInMonth+1): \n",
    "                startDayOfMonth = CalendarFile_currentSheet[char+str(rowOffset_header+1)].value\n",
    "                print(\"New startDayOfMonth: \", startDayOfMonth)\n",
    "                date+=1\n",
    "                break\n",
    "            #Simply break through remaining loops\n",
    "            else:\n",
    "                break"
   ]
  },
  {
   "cell_type": "markdown",
   "id": "95b92849",
   "metadata": {},
   "source": [
    "## Generating weeks template for each month"
   ]
  },
  {
   "cell_type": "code",
   "execution_count": null,
   "id": "4178a526",
   "metadata": {},
   "outputs": [],
   "source": []
  },
  {
   "cell_type": "code",
   "execution_count": null,
   "id": "e253194e",
   "metadata": {},
   "outputs": [],
   "source": []
  },
  {
   "cell_type": "code",
   "execution_count": null,
   "id": "7754d3ae",
   "metadata": {},
   "outputs": [],
   "source": []
  },
  {
   "cell_type": "code",
   "execution_count": null,
   "id": "c1e14415",
   "metadata": {},
   "outputs": [],
   "source": []
  },
  {
   "cell_type": "code",
   "execution_count": 11,
   "id": "e844e2a8",
   "metadata": {},
   "outputs": [],
   "source": [
    "CalendarFile.save(\"PLAY.xlsx\")"
   ]
  },
  {
   "cell_type": "code",
   "execution_count": null,
   "id": "99336f1f",
   "metadata": {},
   "outputs": [],
   "source": []
  }
 ],
 "metadata": {
  "kernelspec": {
   "display_name": "Python 3 (ipykernel)",
   "language": "python",
   "name": "python3"
  },
  "language_info": {
   "codemirror_mode": {
    "name": "ipython",
    "version": 3
   },
   "file_extension": ".py",
   "mimetype": "text/x-python",
   "name": "python",
   "nbconvert_exporter": "python",
   "pygments_lexer": "ipython3",
   "version": "3.9.7"
  }
 },
 "nbformat": 4,
 "nbformat_minor": 5
}
