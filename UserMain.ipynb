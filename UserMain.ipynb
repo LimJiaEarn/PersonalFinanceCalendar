{
 "cells": [
  {
   "cell_type": "code",
   "execution_count": null,
   "id": "5d853a40",
   "metadata": {},
   "outputs": [],
   "source": [
    "import datetime, calendar, openpyxl\n",
    "from openpyxl import Workbook\n",
    "import PFC_UserBackend, PFC_CalendarInitialiser\n",
    "from openpyxl.utils import get_column_letter\n",
    "from openpyxl.styles import PatternFill, Border, Side, Alignment, Font, numbers\n",
    "from openpyxl.formatting.rule import Rule, FormulaRule, CellIsRule, ColorScaleRule\n",
    "\n"
   ]
  },
  {
   "cell_type": "markdown",
   "id": "feca435b",
   "metadata": {},
   "source": [
    "# User Menu/Interface"
   ]
  },
  {
   "cell_type": "markdown",
   "id": "63fa51bb",
   "metadata": {},
   "source": [
    "- Choose year\n",
    "- Choose which day each week start\n",
    "\n",
    "- Edit header\n",
    "- Edit week\n",
    "\n",
    "- Edit accounting rows"
   ]
  },
  {
   "cell_type": "code",
   "execution_count": null,
   "id": "c3042371",
   "metadata": {},
   "outputs": [],
   "source": [
    "PFC_UserBackend.printRETURN_DICT() # For debugging\n",
    "\n",
    "print(\"Welcome! Before we initialise your calendar, you may choose to customise certain components of your calendar\")\n",
    "if (PFC_UserBackend.setYEAR()):\n",
    "    while (PFC_UserBackend.UserMainSelection1()):\n",
    "        continue\n",
    "\n",
    "\n",
    "PFC_UserBackend.printRETURN_DICT() # For debugging\n",
    "\n",
    "\n",
    "\n",
    "\n",
    "print(\"Success\")"
   ]
  },
  {
   "cell_type": "markdown",
   "id": "40ecbdc4",
   "metadata": {},
   "source": [
    "# Initialises the Calendar"
   ]
  },
  {
   "cell_type": "code",
   "execution_count": null,
   "id": "89b01977",
   "metadata": {},
   "outputs": [],
   "source": []
  },
  {
   "cell_type": "code",
   "execution_count": null,
   "id": "da6ded12",
   "metadata": {},
   "outputs": [],
   "source": [
    "# CalendarFile = PFC_CalendarInitialiser.Initialise(CalendarFile, header_titles)\n",
    "# CalendarFile.save(\"Calendar.xlsx\")"
   ]
  }
 ],
 "metadata": {
  "kernelspec": {
   "display_name": "Python 3 (ipykernel)",
   "language": "python",
   "name": "python3"
  },
  "language_info": {
   "codemirror_mode": {
    "name": "ipython",
    "version": 3
   },
   "file_extension": ".py",
   "mimetype": "text/x-python",
   "name": "python",
   "nbconvert_exporter": "python",
   "pygments_lexer": "ipython3",
   "version": "3.9.7"
  }
 },
 "nbformat": 4,
 "nbformat_minor": 5
}
